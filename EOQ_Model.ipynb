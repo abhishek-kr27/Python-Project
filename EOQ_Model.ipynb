{
  "nbformat": 4,
  "nbformat_minor": 0,
  "metadata": {
    "colab": {
      "provenance": [],
      "authorship_tag": "ABX9TyPa6DMOi0J4PxHUgIbGVBVO",
      "include_colab_link": true
    },
    "kernelspec": {
      "name": "python3",
      "display_name": "Python 3"
    },
    "language_info": {
      "name": "python"
    }
  },
  "cells": [
    {
      "cell_type": "markdown",
      "metadata": {
        "id": "view-in-github",
        "colab_type": "text"
      },
      "source": [
        "<a href=\"https://colab.research.google.com/github/abhishek-kr27/Python-Project/blob/main/EOQ_Model.ipynb\" target=\"_parent\"><img src=\"https://colab.research.google.com/assets/colab-badge.svg\" alt=\"Open In Colab\"/></a>"
      ]
    },
    {
      "cell_type": "code",
      "execution_count": null,
      "metadata": {
        "colab": {
          "base_uri": "https://localhost:8080/"
        },
        "id": "eBt87y1dCyqz",
        "outputId": "494f1860-9bf6-4013-ecf4-8f775ce0b3b5"
      },
      "outputs": [
        {
          "output_type": "stream",
          "name": "stdout",
          "text": [
            "Ordering cost 'A' is : 16\n",
            "Demand rate 'λ' is : 8000\n",
            "Inventory carrying cost 'Ic' is : 3\n",
            "Production rate 'ψ' is : 0\n",
            "Shortage cost 'π' is : 0\n",
            "Model 1\n",
            "The EOQ  value is  292.119\n"
          ]
        }
      ],
      "source": [
        "### ECONOMIC ORDER QUANTITY ###\n",
        "\n",
        "# Import required libraries\n",
        "import math\n",
        "\n",
        "A=float(input(\"Ordering cost 'A' is : \") )\n",
        "D=float(input(\"Demand rate 'λ' is : \"))\n",
        "Ic=float(input(\"Inventory carrying cost 'Ic' is : \") )\n",
        "P=float(input(\"Production rate 'ψ' is : \"))\n",
        "Pi=float(input(\"Shortage cost 'π' is : \") )\n",
        "\n",
        "\n",
        "\n",
        "if(P<=0 and Pi<=0): #MODEL 1\n",
        "  print(\"Model 1\")\n",
        "  Q= math.sqrt(2*A*D/Ic)\n",
        "\n",
        "elif (Pi<=0): #MODEL 2\n",
        "  print(\"Model 2\")\n",
        "  Q=math.sqrt((2*A*D*P)/((P-D)*Ic))\n",
        "\n",
        "elif (P<=0): #MODEL 3\n",
        "  print(\"Model 3\")\n",
        "  Q= math.sqrt((2*A*D*(Ic+Pi))/(Ic*Pi))\n",
        "\n",
        "else : #MODEL 4\n",
        "  print(\"Model 4\")\n",
        "  Q=math.sqrt((2*A*D*P*(Ic+Pi))/(Ic*Pi*(P-D)))\n",
        "\n",
        "Q=round(Q,3)\n",
        "\n",
        "# Run example\n",
        "print(\"The EOQ  value is \" ,Q)\n"
      ]
    },
    {
      "cell_type": "code",
      "source": [],
      "metadata": {
        "id": "eVYA5kLVC2Ot"
      },
      "execution_count": null,
      "outputs": []
    }
  ]
}