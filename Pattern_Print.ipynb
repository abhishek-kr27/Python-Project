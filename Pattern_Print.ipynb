{
  "nbformat": 4,
  "nbformat_minor": 0,
  "metadata": {
    "colab": {
      "provenance": [],
      "authorship_tag": "ABX9TyM4PlbzaTGzlBGzprIeFti1",
      "include_colab_link": true
    },
    "kernelspec": {
      "name": "python3",
      "display_name": "Python 3"
    },
    "language_info": {
      "name": "python"
    }
  },
  "cells": [
    {
      "cell_type": "markdown",
      "metadata": {
        "id": "view-in-github",
        "colab_type": "text"
      },
      "source": [
        "<a href=\"https://colab.research.google.com/github/abhishek-kr27/Python-Work/blob/main/Pattern_Print.ipynb\" target=\"_parent\"><img src=\"https://colab.research.google.com/assets/colab-badge.svg\" alt=\"Open In Colab\"/></a>"
      ]
    },
    {
      "cell_type": "code",
      "execution_count": null,
      "metadata": {
        "colab": {
          "base_uri": "https://localhost:8080/"
        },
        "id": "ppq7KhtYjaI3",
        "outputId": "a5ff213c-dfc5-4354-a4d4-3f4fe9ac7a25"
      },
      "outputs": [
        {
          "output_type": "stream",
          "name": "stdout",
          "text": [
            "How many number you want to print : 5\n",
            "*\n",
            "**\n",
            "***\n",
            "****\n",
            "***\n",
            "**\n",
            "*\n"
          ]
        }
      ],
      "source": [
        "num =int(input(\"How many number you want to print : \"))\n",
        "for i in range(1, num):\n",
        "    print(\"*\" * i)  # Print i asterisks on each line\n",
        "for j in range(num-2, 0, -1):  # Reverse loop for the second half\n",
        "    print(\"*\" * j)"
      ]
    },
    {
      "cell_type": "code",
      "source": [],
      "metadata": {
        "id": "vf_Y2To8jki8"
      },
      "execution_count": null,
      "outputs": []
    }
  ]
}