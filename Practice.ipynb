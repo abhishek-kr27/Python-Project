{
  "cells": [
    {
      "cell_type": "markdown",
      "metadata": {
        "id": "view-in-github",
        "colab_type": "text"
      },
      "source": [
        "<a href=\"https://colab.research.google.com/github/abhishek-kr27/Python-Work/blob/main/Practice.ipynb\" target=\"_parent\"><img src=\"https://colab.research.google.com/assets/colab-badge.svg\" alt=\"Open In Colab\"/></a>"
      ]
    },
    {
      "cell_type": "code",
      "execution_count": null,
      "metadata": {
        "colab": {
          "base_uri": "https://localhost:8080/"
        },
        "id": "jAS5sx6t83e8",
        "outputId": "8e84ceee-92a0-491f-b5ee-9200ce18c9a8"
      },
      "outputs": [
        {
          "name": "stdout",
          "output_type": "stream",
          "text": [
            "Enter a non-negative integer: 5\n",
            "The factorial of 5 is 120\n"
          ]
        }
      ],
      "source": [
        "# Factorial\n",
        "def factorial(n):\n",
        "  \"\"\"Calculates the factorial of a non-negative integer n using a for loop.\"\"\"\n",
        "  if n < 0:\n",
        "    return \"Factorial is not defined for negative numbers.\"\n",
        "  elif n == 0:\n",
        "    return 1\n",
        "  else:\n",
        "    result = 1\n",
        "    for i in range(1, n + 1):\n",
        "      result *= i\n",
        "    return result\n",
        "\n",
        "num = int(input(\"Enter a non-negative integer: \"))\n",
        "print(f\"The factorial of {num} is {factorial(num)}\")"
      ]
    },
    {
      "cell_type": "code",
      "execution_count": null,
      "metadata": {
        "colab": {
          "base_uri": "https://localhost:8080/"
        },
        "id": "t4I4KLyUFVVg",
        "outputId": "dc909d50-0d8d-47e4-fb42-d87f294a30b8"
      },
      "outputs": [
        {
          "name": "stdout",
          "output_type": "stream",
          "text": [
            "Enter a non-negative integer: 5\n",
            "The factorial of 5 is 120\n"
          ]
        }
      ],
      "source": [
        " #Recursive statement factorial\n",
        "def factorial(x):\n",
        "  if x < 0:\n",
        "    return \"Factorial is not defined for negative numbers.\"\n",
        "  elif x == 0 :\n",
        "    return 1\n",
        "  else:\n",
        "    return (x * factorial(x - 1))\n",
        "\n",
        "num = int(input(\"Enter a non-negative integer: \"))\n",
        "print(f\"The factorial of {num} is {factorial(num)}\")"
      ]
    },
    {
      "cell_type": "code",
      "execution_count": null,
      "metadata": {
        "colab": {
          "base_uri": "https://localhost:8080/"
        },
        "id": "ykkuP42788HY",
        "outputId": "f7d47e4b-753d-4b6c-c287-ac9c0f2afc5c"
      },
      "outputs": [
        {
          "name": "stdout",
          "output_type": "stream",
          "text": [
            "Enter the number of terms in Fibonacci Sequence : 5\n",
            "Fibonacci Sequence is 0, 1 , 1 , 2 , 3 , "
          ]
        }
      ],
      "source": [
        "#Fibonacci\n",
        "num = int(input(\"Enter the number of terms in Fibonacci Sequence : \"))\n",
        "if num <= 0 :\n",
        "    print(\"Try again with a positive number of terms\")\n",
        "elif num == 1:\n",
        "    print(\"Fibonacci sequence is 0\")\n",
        "elif num == 2:\n",
        "    print(\"Fibonacci Sequence is 0, 1\")\n",
        "else:\n",
        "    second_last = 0\n",
        "    last = 1\n",
        "    print(\"Fibonacci Sequence is 0, 1 , \", end=\"\")\n",
        "    for i in range (num-2):\n",
        "        current = second_last + last\n",
        "        print(current , end=\" , \")\n",
        "        second_last = last\n",
        "        last = current"
      ]
    },
    {
      "cell_type": "code",
      "execution_count": null,
      "metadata": {
        "id": "o5q9eFfH-4dA"
      },
      "outputs": [],
      "source": [
        "#Greatest Number\n",
        "numbers = []\n",
        "num_elements = int(input(\"Enter the number of elements: \"))\n",
        "for i in range(num_elements):\n",
        "  element = int(input(f\"Enter element {i+1}: \"))\n",
        "  numbers.append(element)\n",
        "print(\"The list is \",numbers)\n",
        "\n",
        "greatest = numbers[0]\n",
        "for i in numbers:\n",
        "  if i > greatest:\n",
        "    greatest = i\n",
        "\n",
        "print(\"The greatest number is:\", greatest)"
      ]
    },
    {
      "cell_type": "code",
      "execution_count": null,
      "metadata": {
        "id": "n6aNrhi2ASlz"
      },
      "outputs": [],
      "source": [
        "#Palindrome\n",
        "string = input(\"Enter a string : \").lower()\n",
        "rev =string[::-1]   #String in reverse order\n",
        "if string == rev :\n",
        "    print(\"It is a palindrome.\")\n",
        "else :\n",
        "    print(\"It is not a palindrome.\")"
      ]
    },
    {
      "cell_type": "code",
      "execution_count": null,
      "metadata": {
        "id": "QfmUTkSHHQu3"
      },
      "outputs": [],
      "source": [
        "# Assigning grades to students by taking input of their marks\n",
        "\n",
        "maximum = int(input(\"Enter maximum marks per subject : \"))\n",
        "sub1 = int(input(\"Enter your marks in English: \"))\n",
        "sub2 = int(input(\"Enter your marks in Maths : \"))\n",
        "sub3 = int(input(\"Enter your marks in Science : \"))\n",
        "sub4 = int(input(\"Enter your marks in Social Studies : \"))\n",
        "sub5 = int(input(\"Enter your marks in IT : \"))\n",
        "\n",
        "percent = ((sub1 + sub2 + sub3 + sub4 + sub5)/(maximum*5))*100\n",
        "\n",
        "if percent >= 90:\n",
        "    print(\"Your grade is A.\")\n",
        "elif percent >= 80:\n",
        "    print(\"Your grade is B.\")\n",
        "elif percent >= 70:\n",
        "    print(\"Your grade is C.\")\n",
        "elif percent >= 60:\n",
        "    print(\"Your grade is D.\")\n",
        "else:\n",
        "    print(\"Your grade is E.\")"
      ]
    },
    {
      "cell_type": "code",
      "execution_count": null,
      "metadata": {
        "colab": {
          "base_uri": "https://localhost:8080/"
        },
        "id": "zIlqjG2hIalP",
        "outputId": "8887af81-c2aa-4ffd-80c2-22849662d2f5"
      },
      "outputs": [
        {
          "name": "stdout",
          "output_type": "stream",
          "text": [
            "     \n",
            "    *\n",
            "   **\n",
            "  ***\n",
            " ****\n",
            "*****\n"
          ]
        }
      ],
      "source": [
        "#Pattern\n",
        "n=5;i=0\n",
        "while(i<=n):\n",
        "  print(\" \" * (n - i) +\"*\" * i)\n",
        "  i+=1"
      ]
    },
    {
      "cell_type": "code",
      "execution_count": null,
      "metadata": {
        "colab": {
          "base_uri": "https://localhost:8080/"
        },
        "id": "QfuuIYsTJeo2",
        "outputId": "d522ea09-4901-4292-c397-59c7c08b0609"
      },
      "outputs": [
        {
          "name": "stdout",
          "output_type": "stream",
          "text": [
            "*\n",
            "**\n",
            "***\n",
            "****\n",
            "*****\n"
          ]
        }
      ],
      "source": [
        "#Pattern\n",
        "n = 5\n",
        "for i in range(0, n):\n",
        "    for j in range(0, i+1):\n",
        "        print(\"*\", end=\"\")\n",
        "    print()"
      ]
    },
    {
      "cell_type": "code",
      "execution_count": null,
      "metadata": {
        "colab": {
          "base_uri": "https://localhost:8080/"
        },
        "id": "iv16xNuUNgC8",
        "outputId": "a4cdfc2c-e29b-4bbb-d1cc-ee3e9f9cf72f"
      },
      "outputs": [
        {
          "name": "stdout",
          "output_type": "stream",
          "text": [
            "Enter the number of rows : 5\n",
            "    5\n",
            "   45\n",
            "  345\n",
            " 2345\n",
            "12345\n"
          ]
        }
      ],
      "source": [
        "#Pattern\n",
        "num = int(input(\"Enter the number of rows : \"))\n",
        "spaces = num-1\n",
        "for i in range(0, num):   #Number of lines\n",
        "    print(\" \" * spaces , end=\"\")  #No. of spaces in each line\n",
        "    for j in range(i,-1,-1):\n",
        "        print(num-j, end=\"\")    #Values in each line\n",
        "    print(\"\")             #Row change\n",
        "    spaces -= 1"
      ]
    },
    {
      "cell_type": "code",
      "execution_count": null,
      "metadata": {
        "colab": {
          "base_uri": "https://localhost:8080/"
        },
        "id": "S3SYwjFzOHQF",
        "outputId": "606955d4-1158-421c-f71f-793beec103a8"
      },
      "outputs": [
        {
          "name": "stdout",
          "output_type": "stream",
          "text": [
            "Ordering cost 'A' is : 30\n",
            "Demand rate 'λ' is : 8000\n",
            "Inventory carrying cost 'Ic' is : 0.3\n",
            "Production rate 'ψ' is : 12000\n",
            "Shortage cost 'π' is : 0\n",
            "Model 2\n",
            "The EOQ  value is  2190.89\n"
          ]
        }
      ],
      "source": [
        "### ECONOMIC ORDER QUANTITY ###\n",
        "import math\n",
        "\n",
        "A=float(input(\"Ordering cost 'A' is : \") )\n",
        "D=float(input(\"Demand rate 'λ' is : \"))\n",
        "Ic=float(input(\"Inventory carrying cost 'Ic' is : \") )\n",
        "P=float(input(\"Production rate 'ψ' is : \"))\n",
        "Pi=float(input(\"Shortage cost 'π' is : \") )\n",
        "\n",
        "if(P==0 and Pi==0): #MODEL 1\n",
        "  print(\"Model 1\")\n",
        "  Q= math.sqrt(2*A*D/Ic)\n",
        "\n",
        "elif (Pi==0): #MODEL 2\n",
        "  print(\"Model 2\")\n",
        "  Q=math.sqrt((2*A*D*P)/((P-D)*Ic))\n",
        "\n",
        "elif (P==0): #MODEL 3\n",
        "  print(\"Model 3\")\n",
        "  Q= math.sqrt((2*A*D*(Ic+Pi))/(Ic*Pi))\n",
        "\n",
        "else : #MODEL 4\n",
        "  print(\"Model 4\")\n",
        "  Q=math.sqrt((2*A*D*P*(Ic+Pi))/(Ic*Pi*(P-D)))\n",
        "\n",
        "Q=round(Q,3) #round off for 3places\n",
        "print(\"The EOQ  value is \" ,Q)"
      ]
    },
    {
      "cell_type": "code",
      "execution_count": null,
      "metadata": {
        "colab": {
          "base_uri": "https://localhost:8080/"
        },
        "id": "nhmk8fDyQtpL",
        "outputId": "8d974599-ff5e-49f6-94d9-13824702b741"
      },
      "outputs": [
        {
          "name": "stdout",
          "output_type": "stream",
          "text": [
            "Name: Alice\n",
            "Salary: 50000\n",
            "Department: Sales\n",
            "\n",
            "\n",
            "Name: Bob\n",
            "Salary: 30000\n",
            "Duties: Data Entry\n"
          ]
        }
      ],
      "source": [
        "#Inheritance\n",
        "class Employee:\n",
        "  def __init__(self, name, salary):\n",
        "    self.name = name\n",
        "    self.salary = salary\n",
        "\n",
        "  def get_details(self):\n",
        "    return f\"Name: {self.name}\\nSalary: {self.salary}\"\n",
        "\n",
        "class Manager(Employee):\n",
        "  def __init__(self, name, salary, department):\n",
        "    super().__init__(name, salary)\n",
        "    self.department = department\n",
        "\n",
        "  def get_details(self):\n",
        "    return f\"{super().get_details()}\\nDepartment: {self.department}\"\n",
        "\n",
        "class Clerk(Employee):\n",
        "  def __init__(self, name, salary, duties):\n",
        "    super().__init__(name, salary)\n",
        "    self.duties = duties\n",
        "\n",
        "  def get_details(self):\n",
        "    return f\"{super().get_details()}\\nDuties: {self.duties}\"\n",
        "\n",
        "# Example usage\n",
        "manager = Manager(\"Alice\", 50000, \"Sales\")\n",
        "clerk = Clerk(\"Bob\", 30000, \"Data Entry\")\n",
        "\n",
        "print(manager.get_details())\n",
        "print(\"\\n\")\n",
        "print(clerk.get_details())"
      ]
    },
    {
      "cell_type": "code",
      "execution_count": null,
      "metadata": {
        "id": "Uf2EsXxPRT2l"
      },
      "outputs": [],
      "source": [
        "# WAP in python to perform various statistical measures using pandas.\n",
        "\n",
        "import numpy as np\n",
        "import pandas as pd\n",
        "mydata = np.random.randn(9).reshape(3,3)\n",
        "mydata = pd.DataFrame(mydata, columns = [\"a\",\"b\",\"c\"])\n",
        "print(mydata)\n",
        "print(mydata.describe())"
      ]
    },
    {
      "cell_type": "code",
      "execution_count": null,
      "metadata": {
        "id": "dp4xPRgbUNKC"
      },
      "outputs": [],
      "source": [
        "#WAP to enter multiple values-based data in multiple columns/rows and show that data in python using DataFrames and pandas.\n",
        "\n",
        "import pandas as pd\n",
        "students = [\n",
        "    ['Jack Ma', 34, 'Sydney', 'Australia'],\n",
        "     ['Ritika', 30, 'Delhi', 'India'],\n",
        "      ['Vansh', 31, 'Delhi', 'India'],\n",
        "       ['Nany', 32, 'Tokyo', 'Japan'],\n",
        "        ['May', 16, 'New York', 'US'],\n",
        "         ['Michael', 17, 'Las Vegas', 'US']]\n",
        "\n",
        "data_new = pd.DataFrame(students,\n",
        "                        columns=['Name', 'Age', 'City', 'Country'],\n",
        "                        index=['0', '1', '2', '3', '4', '5'])\n",
        "print(data_new)"
      ]
    },
    {
      "cell_type": "code",
      "execution_count": null,
      "metadata": {
        "id": "iZL-E1RdWCWy"
      },
      "outputs": [],
      "source": [
        "# WAP to perform read and write operations in Python with csv files.\n",
        "import pandas as pd\n",
        "\n",
        "# Reading a CSV file\n",
        "df = pd.read_csv('filename.csv')\n",
        "print(df)\n",
        "\n",
        "# Writing to a CSV file (example)\n",
        "df.to_csv('new_filename.csv', index=False)  # Add this line to write to a new CSV file\n"
      ]
    },
    {
      "cell_type": "code",
      "execution_count": null,
      "metadata": {
        "id": "2YQy57F1WQxG"
      },
      "outputs": [],
      "source": [
        "#WAP to plot a graph for the function y = x2\n",
        "import matplotlib.pyplot as plt\n",
        "x_cords = range(-50,50)\n",
        "y_cords = [x*x for x in x_cords]\n",
        "plt.plot(x_cords, y_cords)\n",
        "plt.title(\"Graph of y = x^2\")\n",
        "plt.grid(\"on\")\n",
        "plt.show()"
      ]
    },
    {
      "cell_type": "code",
      "execution_count": null,
      "metadata": {
        "id": "WhF3E5yGaMoy"
      },
      "outputs": [],
      "source": [
        "# Define a simple function\n",
        "def name(name):\n",
        "  print(f\"Hello, {name}!\")\n",
        "# Call the function\n",
        "name(\"ABHISHEK\")\n",
        "name(\"PRAKASH\")\n",
        "# Define a function with a return value\n",
        "def sum(a, b):\n",
        "  add = a + b\n",
        "  return add\n",
        "# Call the function and store the result in a variable\n",
        "sum_result = sum(10, 15)\n",
        "print(\"Sum:\", sum_result)\n",
        "# Function with default parameter value\n",
        "def power(base, exponent=2):\n",
        "  output = base ** exponent\n",
        "  return output\n",
        "# Call the function with and without providing the exponent\n",
        "default_value = power(5) # take default exponent value as 2\n",
        "Custom_value = power(5, 4) #if change the exponent value\n",
        "print(\"Default Exponent:\", default_value)\n",
        "print(\"Custom Exponent:\", Custom_value)\n"
      ]
    },
    {
      "cell_type": "code",
      "execution_count": null,
      "metadata": {
        "id": "rzC-hmT4a2aY"
      },
      "outputs": [],
      "source": [
        "print(\"Objective : To find the PMF of Binomial and Poisson Distribution.\")\n",
        "import math\n",
        "def bino(x): #Binomial Distribution\n",
        "    print(\"Binomial Distribution\")\n",
        "    p=float(input(\"The probability of success :\"))\n",
        "    print(\"The probability of failure :\" ,1-p)\n",
        "    n=int(input(\"No. of trail :\"))\n",
        "    PMF=math.factorial(n)*(p**x)*((1-p)**(n-x))/(math.factorial(n-x)\n",
        "*math.factorial(x))\n",
        "    #PMF of Poission = n!*p^x*(1-p)^n-x /(n-x)!*x!\n",
        "    print(\"The PMF of binomial distribution is\" ,PMF)\n",
        "\n",
        "def poisson(x): #Poisson Distribution\n",
        "    print(\"Poisson Distribution\")\n",
        "    lamda=float(input(\"The value of lamda : \"))\n",
        "    e=2.7182\n",
        "    P=round((e**(-lamda)*lamda**x)/math.factorial(x),4)\n",
        "    #PMF of Poission =(e^-lamda*lamda^x)/x! and round of by 4 decimal\n",
        "    print(\"The PMF of poisson distribution is\" ,P)\n",
        "bino(2)\n",
        "poisson(3)"
      ]
    },
    {
      "cell_type": "code",
      "execution_count": null,
      "metadata": {
        "id": "fXExWIDhbNIB"
      },
      "outputs": [],
      "source": [
        "# Regression CODE :\n",
        "from scipy import stats\n",
        "x=[5,9,15,6,8,10]\n",
        "y=[2,5,6,5,6,5]\n",
        "slope, intercept,r,p, std_error=stats.linregress(x,y)\n",
        "a=round(intercept,4)\n",
        "b=round(slope,4)\n",
        "print('The intercept is',a)\n",
        "print('The slope is' , b)\n",
        "print('The  correlation coefficient is' , round(r,4))\n",
        "print('The value P is' , round(p,4))\n",
        "def myfun(x):\n",
        "y=round((a+b*x),4)\n",
        "print('The required equation is y=',a,'+' ,b,'x')\n",
        "print('Y=',y)\n",
        "myfun(5)"
      ]
    },
    {
      "cell_type": "code",
      "execution_count": null,
      "metadata": {
        "id": "HVdw0oXtcCqh"
      },
      "outputs": [],
      "source": [
        "# Correlation CODE :\n",
        "import math\n",
        "#taking input values from user\n",
        "n=int(input(\"How many  observations :\"))\n",
        "x=list(map(int,input(\"Enter values of x separated by comma :\").split(\",\")))\n",
        "y=list(map(int,input(\"Enter values of y separated by comma :\").split(\",\")))\n",
        "print(\"x :\",x)\n",
        "print(\"y :\",y)\n",
        "#calculating mean of x and y sets\n",
        "mean_x=sum(x)/len(x)\n",
        "mean_y=sum(y)/len(y)\n",
        "numerator=0\n",
        "denominator=0\n",
        "#calculating slope by finding numerator and denominator separately\n",
        "for i in range(n):\n",
        "  numerator+=(x[i]-mean_x)*(y[i]-mean_y)\n",
        "  denominator+=(x[i]-mean_x)**2\n",
        "  slope=numerator/denominator\n",
        "  intercept=mean_y-slope*mean_x\n",
        "#prediction calculation-regression\n",
        "new_value=int(input(\"Enter new value:\"))\n",
        "predicted=slope*new_value+intercept\n",
        "print(\"Predicted value=\",predicted)\n",
        "#covariance\n",
        "covariance=numerator/n\n",
        "print(\"Covariance = \",covariance)\n",
        "sx=0\n",
        "sy=0\n",
        "for i in range(n):\n",
        "  sx+=(x[i]-mean_x)**2\n",
        "  sy+=(y[i]-mean_y)**2\n",
        "#finding\n",
        "std_x=math.sqrt(sx/n)\n",
        "std_y=math.sqrt(sy/n)\n",
        "corr=covariance/(std_x*std_y)\n",
        "print(\"Standard deviation of x :\",std_x)\n",
        "print(\"Standard deviation of y :\",std_y)\n",
        "print(\"Correlation= \",corr)"
      ]
    },
    {
      "cell_type": "code",
      "execution_count": null,
      "metadata": {
        "id": "5VopJcS3brW2"
      },
      "outputs": [],
      "source": [
        "# CODE : Data Structures : List, Tuple and Dictionary in Python.\n",
        "# Lists\n",
        "print(\"LISTS\")\n",
        "Name = ['ABHISHEK', 'TINKU', 'ANKIT']\n",
        "numbers = [1, 2, 3, 4, 5]\n",
        "print(type(Name))\n",
        "print(type(numbers))\n",
        "# Accessing elements in a list\n",
        "print(\"Name:\", Name)\n",
        "print(\"First Name:\", Name[0])\n",
        "print(\"Second Number:\", numbers[1])\n",
        "# Modifying a list\n",
        "Name.append('ABHISEK KUMAR')\n",
        "numbers[0] = 10\n",
        "print(\"New List:\", Name)\n",
        "print(\"Numbers after modification:\", numbers)\n",
        "#enumerate in List\n",
        "for index,value in enumerate(Name):\n",
        "  print(f\"Index: {index}, Name:{value}\")\n",
        "#List as a Stack\n",
        "stack = [] #empty list to act as a stack\n",
        "stack.append(10)\n",
        "stack.append(20)\n",
        "stack.append(30)\n",
        "# Displaying the current state of the stack\n",
        "print(\"Stack after pushing elements:\", stack)\n",
        "# Popping elements from the stack\n",
        "popped_element = stack.pop()\n",
        "print(\"Popped element:\", popped_element)\n",
        "# Displaying the updated state of the stack\n",
        "print(\"Stack after popping element:\", stack)\n",
        "print(\"\")\n",
        "# Tuples\n",
        "print(\"TUPLES : \")\n",
        "Marks = (93, 84, 95, 80)\n",
        "print(type(Marks))\n",
        "\n",
        "# Accessing elements in a tuple\n",
        "print(\"Marks of 4 subjects :\", Marks)\n",
        "print(\"First Marks :\", Marks[0])\n",
        "print(\"Second Marks :\", Marks[1])\n",
        "print(\"Third Marks :\", Marks[2])\n",
        "print(\"Forth Marks :\", Marks[3])\n",
        "# Modification in Tuple is not possible because Tuples are Immutable\n",
        "# Marks[0] = 50  TypeError: 'tuple' object does not support item assignment\n",
        "#Concatenation\n",
        "tuple1=(1,2,3)\n",
        "tuple2=(4,5,6)\n",
        "tuple3=tuple1 + tuple2\n",
        "print(\"Concatenated Tuple : \" ,tuple3)\n",
        "# Dictionaries\n",
        "print(\"\")\n",
        "print(\"DICTIONARY : \")\n",
        "Student = {'name': 'ABHI', 'age': 21, 'grades': [90,85,95]}\n",
        "print(type(Student))\n",
        "# Accessing Values\n",
        "print(\"Name:\", Student['name'])\n",
        "print(\"Age:\", Student['age'])\n",
        "print(\"Marks:\", Student['grades'])\n",
        "# Modifying a dictionary\n",
        "Student['age'] = 22\n",
        "Student['Department'] = 'Operational Research'\n",
        "print(\"Updated Student Detail :\", Student)\n"
      ]
    },
    {
      "cell_type": "code",
      "execution_count": null,
      "metadata": {
        "id": "6sWDATxmbtb-"
      },
      "outputs": [],
      "source": [
        "# Objective: Write a program of I/O Exception.\n",
        "try:\n",
        "# Attempt to open a file for reading\n",
        "  file_path = \"python.txt\"\n",
        "  with open(file_path, 'r') as file:\n",
        "    content = file.read()\n",
        "    print(f\"File content: {content}\")\n",
        "\n",
        "except FileNotFoundError:# Handle the specific exception for a missing file\n",
        "  print(f\"Error: The file '{file_path}' does not exist.\")\n",
        "\n",
        "except IOError as e:# Handle more generic I/O exceptions\n",
        "  print(f\"An I/O error occurred: {e}\")\n",
        "\n",
        "except Exception as e:# Handle any other unexpected exceptions\n",
        "  print(f\"An unexpected error occurred: {e}\")\n",
        "\n",
        "finally: # Code in this block will be executed no matter what, whether an exception occurred or not\n",
        "  print(\"Execution completed.\")"
      ]
    },
    {
      "cell_type": "code",
      "execution_count": null,
      "metadata": {
        "id": "Gdw_yiPwdPwO"
      },
      "outputs": [],
      "source": [
        "# NUMPY CODE :\n",
        "import numpy as np\n",
        "# Function to calculate the average score\n",
        "def calculate_average(scores):\n",
        "  return np.mean(scores)\n",
        "# Function to find the highest score\n",
        "def find_highest_score(scores):\n",
        "  return np.max(scores)\n",
        "# Function to find the lowest score\n",
        "def find_lowest_score(scores):\n",
        "  return np.min(scores)\n",
        "# Function to display student information\n",
        "def display_student_info(names, scores):\n",
        "  for i in range(len(names)):\n",
        "    print(f\"Student {names[i]} scored {scores[i]}\")\n",
        "# College scenario using NumPy\n",
        "student_names = ['ABHISHEK', 'TINKU', 'ANKIT', 'ASHISH']\n",
        "student_scores = np.array([85, 90, 78, 92])\n",
        "# Display student information\n",
        "print(\"Student Information:\")\n",
        "display_student_info(student_names, student_scores)\n",
        "# Calculate and display average score\n",
        "average_score = calculate_average(student_scores)\n",
        "print(f\"\\nAverage Score: {average_score:.2f}\")\n",
        "# Find and display the highest and lowest scores\n",
        "highest_score = find_highest_score(student_scores)\n",
        "lowest_score = find_lowest_score(student_scores)\n",
        "print(f\"Highest Score: {highest_score}\")\n",
        "print(f\"Lowest Score: {lowest_score}\")"
      ]
    },
    {
      "cell_type": "code",
      "execution_count": null,
      "metadata": {
        "id": "R4jPKruIdZOO"
      },
      "outputs": [],
      "source": [
        "# PANDA CODE :\n",
        "import pandas as pd\n",
        "# Create a dictionary with student data\n",
        "data = {\n",
        "'Name': ['PRAKASH', 'ABHISHEK', 'MANISH', 'DIKSHA', 'ARUNIMA'],\n",
        "'Age': [23, 21, 24, 20, 22],\n",
        "'Grade': [85, 90, 78, 92, 88]\n",
        "}\n",
        "# Create a DataFrame from the dictionary\n",
        "df = pd.DataFrame(data)\n",
        "# Display the initial student data\n",
        "print(\"Initial Student Data:\")\n",
        "print(df)\n",
        "print(30*\"*\")\n",
        "# Add a new student to the DataFrame\n",
        "new_student = {'Name': 'SIMRAN', 'Age': 21, 'Grade': 95}\n",
        "df = df.append(new_student, ignore_index=True)\n",
        "# Display the updated student data\n",
        "print(\"\\nStudent Data After Adding a New Student:\")\n",
        "print(df)\n",
        "print(30*\"*\")\n",
        "# Sorting the DataFrame based on 'Marks' in descending order\n",
        "sorted_data = df.sort_values(by='Grade', ascending=False)\n",
        "# Display the sorted student data\n",
        "print(\"\\nStudent Data after Sorting:\")\n",
        "print(sorted_data)\n",
        "print(30*\"*\")\n",
        "# Calculate average age and grade\n",
        "average_age = df['Age'].mean()\n",
        "average_grade = df['Grade'].mean()\n",
        "print(\"\\nAverage Age:\", average_age)\n",
        "print(\"Average Grade:\", average_grade)\n",
        "print(30*\"*\")\n",
        "# Filter students with a grade above a certain threshold\n",
        "threshold = 90\n",
        "high_grades_df = df[df['Grade'] > threshold]\n",
        "print(f\"\\nStudents with Grades above {threshold}:\")\n",
        "print(high_grades_df)\n",
        "print(30*\"*\")"
      ]
    },
    {
      "cell_type": "code",
      "execution_count": null,
      "metadata": {
        "id": "c_Sa1Z1YdjnZ"
      },
      "outputs": [],
      "source": [
        "# MATPLOTLIB :.BAR GRAPH CODE :\n",
        "import matplotlib.pyplot as plt\n",
        "# Number of Trees data\n",
        "Location = ['A Block', 'B Block', 'C Block', 'D Block']\n",
        "Number_of_Tress = [500, 800, 1200, 600]\n",
        "# Plotting the bar chart\n",
        "plt.bar(Location, Number_of_Tress, color='lightgreen')\n",
        "plt.xlabel('Location')\n",
        "plt.ylabel('No. of trees')\n",
        "plt.title('Bar GRAPH')\n",
        "# Display the bar chart\n",
        "plt.show()"
      ]
    },
    {
      "cell_type": "code",
      "execution_count": null,
      "metadata": {
        "id": "YVSliKz1drxe"
      },
      "outputs": [],
      "source": [
        "# PIE CHART CODE :\n",
        "import matplotlib.pyplot as plt\n",
        "# Data for the pie chart\n",
        "cuisine_labels = ['North Indian', 'South Indian', 'East Indian', 'West Indian']\n",
        "cuisine_percentages = [40, 33, 12, 15]\n",
        "# Colors for each cuisine\n",
        "colors = ['#ff9999', '#66b3ff', '#99ff99', '#ffcc99']\n",
        "# Plotting the pie chart\n",
        "plt.figure(figsize=(8, 8))\n",
        "plt.pie(cuisine_percentages, labels=cuisine_labels, autopct='%1.1f%%',\n",
        "startangle=90, colors=colors)\n",
        "# Title and legend\n",
        "plt.title('Distribution of Indian Cuisine')\n",
        "plt.legend(title='Cuisine Types', loc='upper right',\n",
        "bbox_to_anchor=(1, 0, 0.5, 1))\n",
        "# Display the pie chart\n",
        "plt.show()"
      ]
    },
    {
      "cell_type": "code",
      "execution_count": null,
      "metadata": {
        "colab": {
          "background_save": true,
          "base_uri": "https://localhost:8080/"
        },
        "id": "n7Oaw6pFd0WG",
        "outputId": "6ef86a00-2dbe-4e27-a30f-14c42dd76dc4"
      },
      "outputs": [
        {
          "name": "stdout",
          "output_type": "stream",
          "text": [
            "\n",
            "Inventory Management Menu:\n",
            "1. Basic EOQ Model\n",
            "2. EOQ with Quantity Discounts\n",
            "3. EOQ with Reorder Point\n",
            "4. Exit\n",
            "The Economic Order Quantity (EOQ) is: 653.1972647421809\n",
            "The Reorder Point is: 2652.0547945205476\n",
            "\n",
            "Inventory Management Menu:\n",
            "1. Basic EOQ Model\n",
            "2. EOQ with Quantity Discounts\n",
            "3. EOQ with Reorder Point\n",
            "4. Exit\n"
          ]
        }
      ],
      "source": [
        "import math\n",
        "\n",
        "def basic_eoq(demand, ordering_cost, holding_cost):\n",
        "    eoq = math.sqrt((2 * demand * ordering_cost) / holding_cost)\n",
        "    return eoq\n",
        "\n",
        "def eoq_with_quantity_discounts(demand, ordering_cost, holding_cost, quantity_discounts):\n",
        "    min_total_cost = float('inf')\n",
        "    optimal_order_quantity = 0\n",
        "    for discount_quantity, discount_rate in quantity_discounts.items():\n",
        "        eoq = math.sqrt((2 * demand * ordering_cost) / holding_cost)\n",
        "        total_cost = (demand / eoq) * ordering_cost + (eoq / 2) * holding_cost * (1 - discount_rate)\n",
        "\n",
        "        if total_cost < min_total_cost:\n",
        "            min_total_cost = total_cost\n",
        "            optimal_order_quantity = eoq\n",
        "    return optimal_order_quantity, min_total_cost\n",
        "def eoq_with_reorder_point(demand, lead_time, safety_stock, ordering_cost, holding_cost):\n",
        "    eoq = math.sqrt((2 * demand * ordering_cost) / holding_cost)\n",
        "    reorder_point = (demand / 365) * (lead_time + safety_stock)\n",
        "\n",
        "\n",
        "    return eoq, reorder_point\n",
        "\n",
        "\n",
        "def main():\n",
        "    while True:\n",
        "        print(\"\\nInventory Management Menu:\")\n",
        "        print(\"1. Basic EOQ Model\")\n",
        "        print(\"2. EOQ with Quantity Discounts\")\n",
        "        print(\"3. EOQ with Reorder Point\")\n",
        "        print(\"4. Exit\")\n",
        "\n",
        "\n",
        "        choice = input(\"Enter your choice (1-4): \")\n",
        "\n",
        "\n",
        "        if choice == \"1\":\n",
        "            demand = float(input(\"Enter annual demand: \"))\n",
        "            ordering_cost = float(input(\"Enter ordering cost per order: \"))\n",
        "            holding_cost = float(input(\"Enter holding cost per unit per year: \"))\n",
        "            result = basic_eoq(demand, ordering_cost, holding_cost)\n",
        "            print(f\"The Economic Order Quantity (EOQ) is: {result}\")\n",
        "\n",
        "\n",
        "        elif choice == \"2\":\n",
        "            demand = float(input(\"Enter annual demand: \"))\n",
        "            ordering_cost = float(input(\"Enter ordering cost per order: \"))\n",
        "            holding_cost = float(input(\"Enter holding cost per unit per year: \"))\n",
        "            quantity_discounts = eval(input(\"Enter quantity-discount pairs (as a dictionary): \"))\n",
        "            result = eoq_with_quantity_discounts(demand, ordering_cost, holding_cost, quantity_discounts)\n",
        "            print(f\"The Optimal Order Quantity is: {result[0]}\")\n",
        "            print(f\"The Total Cost corresponding to the Optimal Order Quantity is: {result[1]}\")\n",
        "\n",
        "\n",
        "        elif choice == \"3\":\n",
        "            demand = float(input(\"Enter annual demand: \"))\n",
        "            lead_time = float(input(\"Enter lead time in days: \"))\n",
        "            safety_stock = float(input(\"Enter safety stock level: \"))\n",
        "            ordering_cost = float(input(\"Enter ordering cost per order: \"))\n",
        "            holding_cost = float(input(\"Enter holding cost per unit per year: \"))\n",
        "            result = eoq_with_reorder_point(demand, lead_time, safety_stock, ordering_cost, holding_cost)\n",
        "            print(f\"The Economic Order Quantity (EOQ) is: {result[0]}\")\n",
        "            print(f\"The Reorder Point is: {result[1]}\")\n",
        "\n",
        "\n",
        "        elif choice == \"4\":\n",
        "            print(\"Exiting the program. Goodbye!\")\n",
        "            break\n",
        "\n",
        "\n",
        "        else:\n",
        "            print(\"Invalid choice. Please enter a number between 1 and 4.\")\n",
        "\n",
        "\n",
        "if __name__ == \"__main__\":\n",
        "    main()"
      ]
    },
    {
      "cell_type": "code",
      "execution_count": null,
      "metadata": {
        "id": "0mLD603KQakU"
      },
      "outputs": [],
      "source": []
    }
  ],
  "metadata": {
    "colab": {
      "provenance": [],
      "include_colab_link": true
    },
    "kernelspec": {
      "display_name": "Python 3",
      "name": "python3"
    },
    "language_info": {
      "name": "python"
    }
  },
  "nbformat": 4,
  "nbformat_minor": 0
}