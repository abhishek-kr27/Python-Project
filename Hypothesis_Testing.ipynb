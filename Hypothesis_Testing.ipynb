{
  "nbformat": 4,
  "nbformat_minor": 0,
  "metadata": {
    "colab": {
      "provenance": [],
      "authorship_tag": "ABX9TyOK6cIg447iYUiR70tInSVF",
      "include_colab_link": true
    },
    "kernelspec": {
      "name": "python3",
      "display_name": "Python 3"
    },
    "language_info": {
      "name": "python"
    }
  },
  "cells": [
    {
      "cell_type": "markdown",
      "metadata": {
        "id": "view-in-github",
        "colab_type": "text"
      },
      "source": [
        "<a href=\"https://colab.research.google.com/github/abhishek-kr27/Python-Project/blob/main/Hypothesis_Testing.ipynb\" target=\"_parent\"><img src=\"https://colab.research.google.com/assets/colab-badge.svg\" alt=\"Open In Colab\"/></a>"
      ]
    },
    {
      "cell_type": "markdown",
      "source": [
        "Fitting a curve  binomial distribution\n"
      ],
      "metadata": {
        "id": "Pr9mE5dyVHwi"
      }
    },
    {
      "cell_type": "code",
      "execution_count": 2,
      "metadata": {
        "colab": {
          "base_uri": "https://localhost:8080/"
        },
        "id": "naPXBXb7LMuM",
        "outputId": "d6a80e4c-ea84-4b8f-8674-0f5e062d7dab"
      },
      "outputs": [
        {
          "output_type": "stream",
          "name": "stdout",
          "text": [
            "No. of boys  : [0, 1, 2, 3, 4]\n",
            "No. of girls : [4, 3, 2, 1, 0]\n",
            "Probability :  [0.0625, 0.25, 0.375, 0.25, 0.0625]\n",
            "No. of Family : [50.0, 200.0, 300.0, 200.0, 50.0]\n",
            "The Expected chi square value is :  19.6333 .\n",
            "Tabulated value of chi square :  9.4877 .\n",
            "Rejected the Hypothesis Test.\n"
          ]
        }
      ],
      "source": [
        "import math\n",
        "def binom_pmf(x,n,p):\n",
        "    c= math.factorial(n)/(math.factorial (n-x) *math.factorial(x))\n",
        "    prob=c* (p**x) * ((1-p) ** (n-x))\n",
        "    return prob\n",
        "\n",
        "print(\"No. of boys  : [0, 1, 2, 3, 4]\" )\n",
        "print(\"No. of girls : [4, 3, 2, 1, 0]\" )\n",
        "\n",
        "#pmf\n",
        "p=[]\n",
        "x=[0,1,2,3,4]\n",
        "for i in x:\n",
        "    p.append(binom_pmf(i,4,0.5))\n",
        "print (\"Probability : \", p)        #output [0.0625, 0.25, 0.375, 0.25, 0.0625]\n",
        "\n",
        "#expectedfrequency\n",
        "Ex=[]\n",
        "N=800\n",
        "for i in p:\n",
        "    Ex.append (N*i)\n",
        "print (\"No. of Family :\", Ex)        #output [50.0, 200.0, 300.0, 200.0, 50.0]\n",
        "\n",
        "\n",
        "\n",
        "#chi square value\n",
        "N=[32,178,290,236,64]\n",
        "chi=0\n",
        "for i in range(5):\n",
        "    chi=chi + (((N[i]-Ex[i])**2)/(Ex[i]))\n",
        "chi=round(chi,4)\n",
        "print (\"The Expected chi square value is : \" ,chi,\".\")    #output19.633333333333333\n",
        "\n",
        "\n",
        "\n",
        "import scipy.stats\n",
        "Ec=scipy.stats.chi2.ppf(1-0.05,4)\n",
        "# stats.halfgennorm.ppf\n",
        "\n",
        "Ec=round(Ec,4)\n",
        "print(\"Tabulated value of chi square : \",Ec,\".\")\n",
        "if (chi <=Ec):\n",
        "    print (\"Accept the Hypothesis Test.\")\n",
        "else:\n",
        "    print (\"Rejected the Hypothesis Test.\")\n",
        "#output:\n",
        "#calculated chi square value: 19.633333333333333\n",
        "#accepted но"
      ]
    },
    {
      "cell_type": "markdown",
      "source": [
        "# Goodness of fit test of poisson distribution fitting\n"
      ],
      "metadata": {
        "id": "rZ_PfUCPVj5m"
      }
    },
    {
      "cell_type": "code",
      "source": [
        "import numpy as np\n",
        "from scipy.stats import poisson,chisquare\n",
        "\n",
        "x=[0,1,2,3,4,5,6,7,8]\n",
        "f=[36,76,79,68,58,26,12,7,3]\n",
        "fx=[]\n",
        "\n",
        "for i in range(9):\n",
        "  fx.append(x[i]*f[i])\n",
        "print(fx)\n",
        "l=sum(fx)/sum(f) # l = 2.589041095890411\n",
        "pmf=poisson.pmf(x,l)\n",
        "print(pmf)\n",
        "\n",
        "#HINT :\n",
        "#fx=  [0, 76, 158, 204, 232, 130, 72, 49, 24]\n",
        "# pmf = [0.07509201 0.1944163  0.2516759  0.21719975 0.14058477 0.07279595 0.03141195 0.01161812 0.00375997]\n",
        "\n",
        "\n",
        "\n",
        "#Expected Frequency f' = P(x)*Sum(f) = pmf*365\n",
        "npx=[]\n",
        "for i in pmf:\n",
        "  npx.append(365*i)\n",
        "print(npx)\n",
        "\n",
        "#HINT :\n",
        "#[27.40858423817837, 70.96195097281797, 91.86170365659315, 79.27790863514204, 51.313440863156984,\n",
        "# 26.570521433251162, 11.465361988320707, 4.240613338146011, 1.3723902755301307]\n",
        "\n",
        "#combining last two rows , since they are less than 5\n",
        "y=npx[7]+npx[8]\n",
        "npx.pop(8)\n",
        "npx.pop(7)\n",
        "npx.append(y)\n",
        "print(npx)\n",
        "\n",
        "y=f[7]+f[8]\n",
        "f.pop(8)\n",
        "f.pop(7)\n",
        "f.append(y)\n",
        "print(f)\n",
        "\n",
        "chi=0\n",
        "for i in range(8):\n",
        "  chi=chi+(((f[i]-npx[i])**2)/(npx[i]))\n",
        "print(\"calculated chi_square value:\",chi)\n",
        "\n",
        "\n",
        "import scipy.stats\n",
        "c=scipy.stats.chi2.ppf(1-0.05,7)\n",
        "print(\"Tabluted value:\",c)\n",
        "#checking th test\n",
        "if (chi <= c):\n",
        "    print (\"Accept the Hypothesis Test.\")\n",
        "else:\n",
        "    print (\"Rejected the Hypothesis Test.\")\n",
        "\n",
        "#HINT :\n",
        "#calculated chi_square value: 10.79315419017059\n",
        "#tabluted value: 14.067140449340169\n",
        "#Accept H0"
      ],
      "metadata": {
        "colab": {
          "base_uri": "https://localhost:8080/"
        },
        "id": "yMg2-clpLPZi",
        "outputId": "b466ac31-f4f7-4ae9-cb4f-6509f341dd08"
      },
      "execution_count": 3,
      "outputs": [
        {
          "output_type": "stream",
          "name": "stdout",
          "text": [
            "[0, 76, 158, 204, 232, 130, 72, 49, 24]\n",
            "[0.07509201 0.1944163  0.2516759  0.21719975 0.14058477 0.07279595\n",
            " 0.03141195 0.01161812 0.00375997]\n",
            "[27.40858423817837, 70.96195097281797, 91.86170365659315, 79.27790863514204, 51.313440863156984, 26.570521433251162, 11.465361988320707, 4.240613338146011, 1.3723902755301307]\n",
            "[27.40858423817837, 70.96195097281797, 91.86170365659315, 79.27790863514204, 51.313440863156984, 26.570521433251162, 11.465361988320707, 5.613003613676142]\n",
            "[36, 76, 79, 68, 58, 26, 12, 10]\n",
            "calculated chi_square value: 10.79315419017059\n",
            "Tabluted value: 14.067140449340169\n",
            "Accept the Hypothesis Test.\n"
          ]
        }
      ]
    },
    {
      "cell_type": "code",
      "source": [
        "import numpy as np\n",
        "from scipy.stats import chi2, norm\n",
        "def weighted_mean(midpoints, freq):\n",
        "    return np.average(midpoints, weights=freq)\n",
        "midpoints=[27, 29, 31, 33, 35, 37, 39]\n",
        "freq=[7, 22, 36, 45, 33, 28, 4]\n",
        "mean = weighted_mean(midpoints, freq)\n",
        "print(\"mean: \",mean)\n",
        "std_dev = np.sqrt(np.average((midpoints - np.average(midpoints, weights=freq))**2, weights=freq))\n",
        "print(\"std_dev: \",std_dev)\n",
        "lower_bound=[-np.inf, 26, 28, 30, 32, 34, 36, 38, 40]\n",
        "upper_bound=[ 26, 28, 30, 32, 34, 36, 38, 40, np.inf]\n",
        "probability = norm.cdf(upper_bound, loc=mean, scale=std_dev) - norm.cdf(lower_bound, loc=mean, scale=std_dev)\n",
        "print(\"probability: \",probability)\n",
        "# Calculate the expected frequency\n",
        "expected_freq=[]\n",
        "for i in probability:\n",
        "    expected_freq.append(175*i)\n",
        "print(\"expected freq: \",expected_freq)\n",
        "\n",
        "# Combining classes >5\n",
        "x=expected_freq[0]+expected_freq[1]\n",
        "y=expected_freq[7]+expected_freq[8]\n",
        "expected_freq.pop(0)\n",
        "expected_freq.pop(7)\n",
        "expected_freq[0]=x\n",
        "expected_freq[6]=y\n",
        "\n",
        "print(\"combining expected frequencies>5: \")\n",
        "print(expected_freq)\n",
        "\n",
        "#performing chi\n",
        "chi=0\n",
        "for i in range(7):\n",
        "  chi=chi+(((freq[i]-expected_freq[i])**2)/(expected_freq[i]))\n",
        "import scipy.stats\n",
        "c=scipy.stats.chi2.ppf(1-0.05,7)\n",
        "print(\"Calculated chi_square value:\",chi)\n",
        "print(\"Tabluted value:\",c)\n",
        "if (chi <= c):\n",
        "  print (\"Accept the Hypothesis Test.\")\n",
        "else :\n",
        "  print (\"Reject the Hypothesis Test.\")\n"
      ],
      "metadata": {
        "id": "f-CyS_LQN9Yl",
        "outputId": "a86d7791-ae24-4d9c-abec-2916851005b7",
        "colab": {
          "base_uri": "https://localhost:8080/"
        }
      },
      "execution_count": 4,
      "outputs": [
        {
          "output_type": "stream",
          "name": "stdout",
          "text": [
            "mean:  33.0\n",
            "std_dev:  2.9002462949598904\n",
            "probability:  [0.00789815 0.03445653 0.1081211  0.21464721 0.26975399 0.21464721\n",
            " 0.1081211  0.03445653 0.00789815]\n",
            "expected freq:  [1.3821769232122734, 6.029893405297192, 18.921193256234048, 37.56326221568001, 47.20694839915295, 37.563262215680005, 18.92119325623406, 6.02989340529719, 1.3821769232122723]\n",
            "combining expected frequencies>5: \n",
            "[7.412070328509465, 18.921193256234048, 37.56326221568001, 47.20694839915295, 37.563262215680005, 18.92119325623406, 7.412070328509462]\n",
            "Calculated chi_square value: 7.17339614191457\n",
            "Tabluted value: 14.067140449340169\n",
            "Accept the Hypothesis Test.\n"
          ]
        }
      ]
    },
    {
      "cell_type": "markdown",
      "source": [
        "# ** Goodness of fit test of poisson distribution fitting**"
      ],
      "metadata": {
        "id": "mqt6XsnAUmy3"
      }
    },
    {
      "cell_type": "code",
      "source": [
        "import numpy as np\n",
        "from scipy.stats import poisson,chisquare\n",
        "\n",
        "x=[0,1,2,3,4,5,6,7,8]\n",
        "f=[36,76,79,68,58,26,12,7,3]\n",
        "fx=[]\n",
        "\n",
        "for i in range(9):\n",
        "  fx.append(x[i]*f[i])\n",
        "print(fx)\n",
        "l=sum(fx)/sum(f) # l = 2.589041095890411\n",
        "pmf=poisson.pmf(x,l)\n",
        "print(pmf)\n",
        "\n",
        "#HINT :\n",
        "#fx=  [0, 76, 158, 204, 232, 130, 72, 49, 24]\n",
        "# pmf = [0.07509201 0.1944163  0.2516759  0.21719975 0.14058477 0.07279595 0.03141195 0.01161812 0.00375997]\n",
        "\n",
        "#Expected Frequency f' = P(x)*Sum(f) = pmf*365\n",
        "npx=[]\n",
        "for i in pmf:\n",
        "  npx.append(365*i)\n",
        "print(npx)\n",
        "\n",
        "#HINT :\n",
        "#[27.40858423817837, 70.96195097281797, 91.86170365659315, 79.27790863514204, 51.313440863156984,\n",
        "# 26.570521433251162, 11.465361988320707, 4.240613338146011, 1.3723902755301307]\n",
        "\n",
        "#combining last two rows , since they are less than 5\n",
        "y=npx[7]+npx[8]\n",
        "npx.pop(8)\n",
        "npx.pop(7)\n",
        "npx.append(y)\n",
        "print(npx)\n",
        "\n",
        "y=f[7]+f[8]\n",
        "f.pop(8)\n",
        "f.pop(7)\n",
        "f.append(y)\n",
        "print(f)\n",
        "\n",
        "chi=0\n",
        "for i in range(8):\n",
        "  chi=chi+(((f[i]-npx[i])**2)/(npx[i]))\n",
        "print(\"calculated chi_square value:\",chi)\n",
        "\n",
        "\n",
        "import scipy.stats\n",
        "c=scipy.stats.chi2.ppf(1-0.05,7)\n",
        "print(\"Tabluted value:\",c)\n",
        "#checking th test\n",
        "if (chi <= c):\n",
        "    print (\"Accept the Hypothesis Test.\")\n",
        "else:\n",
        "    print (\"Rejected the Hypothesis Test.\")\n",
        "\n",
        "#HINT :\n",
        "#calculated chi_square value: 10.79315419017059\n",
        "#tabluted value: 14.067140449340169\n",
        "#Accept H0"
      ],
      "metadata": {
        "id": "1gAawmRsN_rD",
        "colab": {
          "base_uri": "https://localhost:8080/"
        },
        "outputId": "0f66f0cb-e7a2-43c2-d36e-773d7b5adbc4"
      },
      "execution_count": 6,
      "outputs": [
        {
          "output_type": "stream",
          "name": "stdout",
          "text": [
            "[0, 76, 158, 204, 232, 130, 72, 49, 24]\n",
            "[0.07509201 0.1944163  0.2516759  0.21719975 0.14058477 0.07279595\n",
            " 0.03141195 0.01161812 0.00375997]\n",
            "[27.40858423817837, 70.96195097281797, 91.86170365659315, 79.27790863514204, 51.313440863156984, 26.570521433251162, 11.465361988320707, 4.240613338146011, 1.3723902755301307]\n",
            "[27.40858423817837, 70.96195097281797, 91.86170365659315, 79.27790863514204, 51.313440863156984, 26.570521433251162, 11.465361988320707, 5.613003613676142]\n",
            "[36, 76, 79, 68, 58, 26, 12, 10]\n",
            "calculated chi_square value: 10.79315419017059\n",
            "Tabluted value: 14.067140449340169\n",
            "Accept the Hypothesis Test.\n"
          ]
        }
      ]
    },
    {
      "cell_type": "code",
      "source": [],
      "metadata": {
        "id": "uprsvzOmUSw9"
      },
      "execution_count": null,
      "outputs": []
    }
  ]
}